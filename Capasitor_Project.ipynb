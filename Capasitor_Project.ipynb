{
 "cells": [
  {
   "cell_type": "markdown",
   "source": [
    "imports"
   ],
   "metadata": {
    "collapsed": false,
    "pycharm": {
     "name": "#%% md\n"
    }
   }
  },
  {
   "cell_type": "code",
   "execution_count": 2,
   "outputs": [],
   "source": [
    "import numpy as np\n",
    "\n",
    "from ipywidgets import FloatSlider, interact"
   ],
   "metadata": {
    "collapsed": false,
    "pycharm": {
     "name": "#%%\n"
    }
   }
  },
  {
   "cell_type": "markdown",
   "source": [
    "global var for constant permittivity"
   ],
   "metadata": {
    "collapsed": false,
    "pycharm": {
     "name": "#%% md\n"
    }
   }
  },
  {
   "cell_type": "code",
   "execution_count": null,
   "outputs": [],
   "source": [
    "epsilon_0 = np.multiply(8.85, 10 ** -12)"
   ],
   "metadata": {
    "collapsed": false,
    "pycharm": {
     "name": "#%%\n"
    }
   }
  },
  {
   "cell_type": "markdown",
   "source": [
    "$C=\\frac{\\epsilon A}{d}$, where C is capacitance, $\\epsilon$ is permittivity, A is area,\n",
    "and d is the distance between plates.\n",
    "\n",
    "$\\epsilon=k\\epsilon_0$, where k is relative permittivity of the dielectric between the plates, and $\\epsilon_0$ is the\n",
    "permittivity constant of $8.85\\cdot10^{-12}$."
   ],
   "metadata": {
    "collapsed": false,
    "pycharm": {
     "name": "#%% md\n"
    }
   }
  },
  {
   "cell_type": "code",
   "execution_count": 12,
   "outputs": [],
   "source": [
    "def parallel_plate_capacitance(area, distance, permittivity):\n",
    "    epsilon = np.multiply(permittivity, epsilon_0)\n",
    "    capacitance_ = np.divide(np.multiply(area, epsilon), distance)\n",
    "    return capacitance_"
   ],
   "metadata": {
    "collapsed": false,
    "pycharm": {
     "name": "#%%\n"
    }
   }
  },
  {
   "cell_type": "markdown",
   "source": [
    "$E=\\frac{|\\Delta V|}{d}$, where E is the electric field strength between the plates, $|\\Delta V|$ is the absolute\n",
    "electric potential, and d is the distance between plates."
   ],
   "metadata": {
    "collapsed": false,
    "pycharm": {
     "name": "#%% md\n"
    }
   }
  },
  {
   "cell_type": "code",
   "execution_count": 13,
   "outputs": [],
   "source": [
    "def parallel_plate_E(electric_potential, distance):\n",
    "    return np.divide(np.absolute(electric_potential), distance)"
   ],
   "metadata": {
    "collapsed": false,
    "pycharm": {
     "name": "#%%\n"
    }
   }
  },
  {
   "cell_type": "markdown",
   "source": [
    "$Q=C\\Delta V $, where Q is the charge strength, C is the capacitance, and $\\Delta V$ is the potential difference."
   ],
   "metadata": {
    "collapsed": false,
    "pycharm": {
     "name": "#%% md\n"
    }
   }
  },
  {
   "cell_type": "code",
   "execution_count": 33,
   "outputs": [],
   "source": [
    "def parallel_plate_Q(electric_potential, capacitance):\n",
    "    return np.multiply(electric_potential, capacitance)"
   ],
   "metadata": {
    "collapsed": false,
    "pycharm": {
     "name": "#%%\n"
    }
   }
  },
  {
   "cell_type": "markdown",
   "source": [
    "$\\sigma = \\epsilon_0 kE$, where $\\sigma$ is the charge density, $\\epsilon_0$ is the\n",
    "permittivity constant of $8.85\\cdot10^{-12}$, k is relative permittivity of the dielectric between the plates, and E is\n",
    "the field strength between the plates."
   ],
   "metadata": {
    "collapsed": false,
    "pycharm": {
     "name": "#%% md\n"
    }
   }
  },
  {
   "cell_type": "code",
   "execution_count": 64,
   "outputs": [],
   "source": [
    "def parallel_plate_density(permittivity, field_strength):\n",
    "    return np.multiply(np.multiply(epsilon_0, permittivity), field_strength)"
   ],
   "metadata": {
    "collapsed": false,
    "pycharm": {
     "name": "#%%\n"
    }
   }
  },
  {
   "cell_type": "markdown",
   "source": [
    "$U_{cap} = \\frac{1}{2}C(\\Delta V)^2$, where $U_{cap}$ is the energy in the capacitor,\n",
    "C is the capacitance, and $\\Delta V$ is the electric potential."
   ],
   "metadata": {
    "collapsed": false,
    "pycharm": {
     "name": "#%% md\n"
    }
   }
  },
  {
   "cell_type": "code",
   "execution_count": 78,
   "outputs": [],
   "source": [
    "def parallel_plate_charge(capacitance, electric_potential):\n",
    "    return np.multiply(0.5, np.multiply(capacitance, electric_potential ** 2))"
   ],
   "metadata": {
    "collapsed": false,
    "pycharm": {
     "name": "#%%\n"
    }
   }
  },
  {
   "cell_type": "markdown",
   "source": [
    "Helper Function for printing out all output variables"
   ],
   "metadata": {
    "collapsed": false,
    "pycharm": {
     "name": "#%% md\n"
    }
   }
  },
  {
   "cell_type": "code",
   "execution_count": 79,
   "outputs": [],
   "source": [
    "def parallel_plate_formatted(area, distance, permittivity, electric_potential):\n",
    "    capacitance_ = parallel_plate_capacitance(area, distance, permittivity) # calculates capacitance\n",
    "    electric_field_strength = parallel_plate_E(electric_potential, distance) # calculates electric field strength\n",
    "    charge_strength = parallel_plate_Q(electric_potential, capacitance_) # calculates charge strength on the plates\n",
    "    charge_density = parallel_plate_density(permittivity, electric_field_strength) # density of charges on plates\n",
    "    capacitor_charge = parallel_plate_charge(capacitance_, electric_potential) # calculates charge within capacitor\n",
    "\n",
    "    # return string to print all variables above\n",
    "    return f'C = {np.format_float_scientific(capacitance_, 2)}F | ' \\\n",
    "           f'E = {np.format_float_positional(electric_field_strength, 2)}V/m | ' \\\n",
    "           f'Q = {np.format_float_scientific(charge_strength, 2)}C | ' \\\n",
    "           f'σ = {np.format_float_scientific(charge_density, 2)}C/m² | ' \\\n",
    "           f'U = {np.format_float_scientific(capacitor_charge, 2)}J'"
   ],
   "metadata": {
    "collapsed": false,
    "pycharm": {
     "name": "#%%\n"
    }
   }
  },
  {
   "cell_type": "markdown",
   "source": [
    "With the below sliders you can control the following variables:\n",
    "* **area**: area of the plates in meters squared\n",
    "* **distance**: plate separation in meters\n",
    "* **permittivity**: permittivity of the dielectric between the plates (1 is equivalent to air).\n",
    "* **electric_potential**: electric potential of the circuit in Volts\n",
    "\n",
    "The sliders will change the output of the following variables:\n",
    "* **C**: Capacitance in Farads\n",
    "* **E**: Electric field strength between the plates in volt meters\n",
    "* **Q**: Charge strength on the plates of the capacitor in Coulombs\n",
    "* **$\\sigma$**: Charge density on the plates of the capacitor in Coulomb / Meters squared\n",
    "* **U**: Energy in the capacitor in Joules"
   ],
   "metadata": {
    "collapsed": false
   }
  },
  {
   "cell_type": "code",
   "execution_count": 81,
   "outputs": [
    {
     "data": {
      "text/plain": "interactive(children=(FloatSlider(value=0.01, description='area', max=1.0, min=0.01, step=0.01), FloatSlider(v…",
      "application/vnd.jupyter.widget-view+json": {
       "version_major": 2,
       "version_minor": 0,
       "model_id": "457aa464699648f99e88e567beb74d7d"
      }
     },
     "metadata": {},
     "output_type": "display_data"
    },
    {
     "data": {
      "text/plain": "<function __main__.parallel_plate_formatted(area, distance, permittivity, electric_potential)>"
     },
     "execution_count": 81,
     "metadata": {},
     "output_type": "execute_result"
    }
   ],
   "source": [
    "area = FloatSlider(min=0.01, max=1, step=0.01, value=0)\n",
    "distance = FloatSlider(min=0.01, max=1, step=0.01, value=0.01)\n",
    "permittivity = FloatSlider(min=1, max=100, step=1, value=1)\n",
    "electric_potential = FloatSlider(min=-12, max=12, step=0.1, value=0)\n",
    "\n",
    "interact(parallel_plate_formatted,\n",
    "         area=area,\n",
    "         distance=distance,\n",
    "         permittivity=permittivity,\n",
    "         electric_potential=electric_potential)"
   ],
   "metadata": {
    "collapsed": false,
    "pycharm": {
     "name": "#%%\n"
    }
   }
  },
  {
   "cell_type": "code",
   "execution_count": null,
   "outputs": [],
   "source": [],
   "metadata": {
    "collapsed": false,
    "pycharm": {
     "name": "#%%\n"
    }
   }
  }
 ],
 "metadata": {
  "kernelspec": {
   "display_name": "Python 3",
   "language": "python",
   "name": "python3"
  },
  "language_info": {
   "codemirror_mode": {
    "name": "ipython",
    "version": 2
   },
   "file_extension": ".py",
   "mimetype": "text/x-python",
   "name": "python",
   "nbconvert_exporter": "python",
   "pygments_lexer": "ipython2",
   "version": "2.7.6"
  }
 },
 "nbformat": 4,
 "nbformat_minor": 0
}